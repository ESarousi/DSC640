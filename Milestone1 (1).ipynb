{
 "cells": [
  {
   "cell_type": "code",
   "execution_count": 2,
   "id": "072ba330",
   "metadata": {},
   "outputs": [],
   "source": [
    "#Erez Sarousi\n",
    "#Professor Catie Williams\n",
    "#DSC 640 - Data Presentation & Visualization\n",
    "#6/13/2021"
   ]
  },
  {
   "cell_type": "code",
   "execution_count": 3,
   "id": "c451ddaf",
   "metadata": {
    "scrolled": true
   },
   "outputs": [],
   "source": [
    "#Importing packages\n",
    "import matplotlib.pyplot as plt\n",
    "from nltk.corpus import stopwords\n",
    "from nltk.stem import PorterStemmer \n",
    "import pandas as pd\n",
    "import re\n",
    "import seaborn as sns\n",
    "from textblob import TextBlob"
   ]
  },
  {
   "cell_type": "code",
   "execution_count": 4,
   "id": "b61735e8",
   "metadata": {},
   "outputs": [],
   "source": [
    "#Loading CSV fles.\n",
    "air = pd.read_csv('airline-safety.csv')\n",
    "car = pd.read_csv('traffic-collision-data-from-2010-to-present.csv') #https://www.kaggle.com/cityofLA/los-angeles-traffic-collision-data?select=traffic-collision-data-from-2010-to-present.csv\n",
    "article = pd.read_csv('abcnews-date-text.csv')"
   ]
  },
  {
   "cell_type": "code",
   "execution_count": 5,
   "id": "35aec0a4",
   "metadata": {
    "scrolled": true
   },
   "outputs": [
    {
     "data": {
      "text/html": [
       "<div>\n",
       "<style scoped>\n",
       "    .dataframe tbody tr th:only-of-type {\n",
       "        vertical-align: middle;\n",
       "    }\n",
       "\n",
       "    .dataframe tbody tr th {\n",
       "        vertical-align: top;\n",
       "    }\n",
       "\n",
       "    .dataframe thead th {\n",
       "        text-align: right;\n",
       "    }\n",
       "</style>\n",
       "<table border=\"1\" class=\"dataframe\">\n",
       "  <thead>\n",
       "    <tr style=\"text-align: right;\">\n",
       "      <th></th>\n",
       "      <th>airline</th>\n",
       "      <th>avail_seat_km_per_week</th>\n",
       "      <th>incidents_85_99</th>\n",
       "      <th>fatal_accidents_85_99</th>\n",
       "      <th>fatalities_85_99</th>\n",
       "      <th>incidents_00_14</th>\n",
       "      <th>fatal_accidents_00_14</th>\n",
       "      <th>fatalities_00_14</th>\n",
       "    </tr>\n",
       "  </thead>\n",
       "  <tbody>\n",
       "    <tr>\n",
       "      <th>0</th>\n",
       "      <td>Aer Lingus</td>\n",
       "      <td>320906734</td>\n",
       "      <td>2</td>\n",
       "      <td>0</td>\n",
       "      <td>0</td>\n",
       "      <td>0</td>\n",
       "      <td>0</td>\n",
       "      <td>0</td>\n",
       "    </tr>\n",
       "    <tr>\n",
       "      <th>1</th>\n",
       "      <td>Aeroflot*</td>\n",
       "      <td>1197672318</td>\n",
       "      <td>76</td>\n",
       "      <td>14</td>\n",
       "      <td>128</td>\n",
       "      <td>6</td>\n",
       "      <td>1</td>\n",
       "      <td>88</td>\n",
       "    </tr>\n",
       "    <tr>\n",
       "      <th>2</th>\n",
       "      <td>Aerolineas Argentinas</td>\n",
       "      <td>385803648</td>\n",
       "      <td>6</td>\n",
       "      <td>0</td>\n",
       "      <td>0</td>\n",
       "      <td>1</td>\n",
       "      <td>0</td>\n",
       "      <td>0</td>\n",
       "    </tr>\n",
       "    <tr>\n",
       "      <th>3</th>\n",
       "      <td>Aeromexico*</td>\n",
       "      <td>596871813</td>\n",
       "      <td>3</td>\n",
       "      <td>1</td>\n",
       "      <td>64</td>\n",
       "      <td>5</td>\n",
       "      <td>0</td>\n",
       "      <td>0</td>\n",
       "    </tr>\n",
       "    <tr>\n",
       "      <th>4</th>\n",
       "      <td>Air Canada</td>\n",
       "      <td>1865253802</td>\n",
       "      <td>2</td>\n",
       "      <td>0</td>\n",
       "      <td>0</td>\n",
       "      <td>2</td>\n",
       "      <td>0</td>\n",
       "      <td>0</td>\n",
       "    </tr>\n",
       "  </tbody>\n",
       "</table>\n",
       "</div>"
      ],
      "text/plain": [
       "                 airline  avail_seat_km_per_week  incidents_85_99  \\\n",
       "0             Aer Lingus               320906734                2   \n",
       "1              Aeroflot*              1197672318               76   \n",
       "2  Aerolineas Argentinas               385803648                6   \n",
       "3            Aeromexico*               596871813                3   \n",
       "4             Air Canada              1865253802                2   \n",
       "\n",
       "   fatal_accidents_85_99  fatalities_85_99  incidents_00_14  \\\n",
       "0                      0                 0                0   \n",
       "1                     14               128                6   \n",
       "2                      0                 0                1   \n",
       "3                      1                64                5   \n",
       "4                      0                 0                2   \n",
       "\n",
       "   fatal_accidents_00_14  fatalities_00_14  \n",
       "0                      0                 0  \n",
       "1                      1                88  \n",
       "2                      0                 0  \n",
       "3                      0                 0  \n",
       "4                      0                 0  "
      ]
     },
     "execution_count": 5,
     "metadata": {},
     "output_type": "execute_result"
    }
   ],
   "source": [
    "#Reviewing airline head.\n",
    "air.head()"
   ]
  },
  {
   "cell_type": "code",
   "execution_count": 6,
   "id": "13f9c2a5",
   "metadata": {},
   "outputs": [
    {
     "ename": "AttributeError",
     "evalue": "'Rectangle' object has no property 'kind'",
     "output_type": "error",
     "traceback": [
      "\u001b[1;31m---------------------------------------------------------------------------\u001b[0m",
      "\u001b[1;31mAttributeError\u001b[0m                            Traceback (most recent call last)",
      "\u001b[1;32m<ipython-input-6-b3d2ae273770>\u001b[0m in \u001b[0;36m<module>\u001b[1;34m\u001b[0m\n\u001b[1;32m----> 1\u001b[1;33m \u001b[0msns\u001b[0m\u001b[1;33m.\u001b[0m\u001b[0mbarplot\u001b[0m\u001b[1;33m(\u001b[0m\u001b[0mx\u001b[0m\u001b[1;33m=\u001b[0m\u001b[1;34m'incidents_85_99'\u001b[0m\u001b[1;33m,\u001b[0m \u001b[0my\u001b[0m\u001b[1;33m=\u001b[0m\u001b[1;34m'incidents_00_14'\u001b[0m\u001b[1;33m,\u001b[0m \u001b[0mkind\u001b[0m\u001b[1;33m=\u001b[0m\u001b[1;34m'bar'\u001b[0m\u001b[1;33m,\u001b[0m \u001b[0mdata\u001b[0m\u001b[1;33m=\u001b[0m\u001b[0mair\u001b[0m\u001b[1;33m)\u001b[0m\u001b[1;33m\u001b[0m\u001b[1;33m\u001b[0m\u001b[0m\n\u001b[0m",
      "\u001b[1;32m~\\anaconda\\lib\\site-packages\\seaborn\\_decorators.py\u001b[0m in \u001b[0;36minner_f\u001b[1;34m(*args, **kwargs)\u001b[0m\n\u001b[0;32m     44\u001b[0m             )\n\u001b[0;32m     45\u001b[0m         \u001b[0mkwargs\u001b[0m\u001b[1;33m.\u001b[0m\u001b[0mupdate\u001b[0m\u001b[1;33m(\u001b[0m\u001b[1;33m{\u001b[0m\u001b[0mk\u001b[0m\u001b[1;33m:\u001b[0m \u001b[0marg\u001b[0m \u001b[1;32mfor\u001b[0m \u001b[0mk\u001b[0m\u001b[1;33m,\u001b[0m \u001b[0marg\u001b[0m \u001b[1;32min\u001b[0m \u001b[0mzip\u001b[0m\u001b[1;33m(\u001b[0m\u001b[0msig\u001b[0m\u001b[1;33m.\u001b[0m\u001b[0mparameters\u001b[0m\u001b[1;33m,\u001b[0m \u001b[0margs\u001b[0m\u001b[1;33m)\u001b[0m\u001b[1;33m}\u001b[0m\u001b[1;33m)\u001b[0m\u001b[1;33m\u001b[0m\u001b[1;33m\u001b[0m\u001b[0m\n\u001b[1;32m---> 46\u001b[1;33m         \u001b[1;32mreturn\u001b[0m \u001b[0mf\u001b[0m\u001b[1;33m(\u001b[0m\u001b[1;33m**\u001b[0m\u001b[0mkwargs\u001b[0m\u001b[1;33m)\u001b[0m\u001b[1;33m\u001b[0m\u001b[1;33m\u001b[0m\u001b[0m\n\u001b[0m\u001b[0;32m     47\u001b[0m     \u001b[1;32mreturn\u001b[0m \u001b[0minner_f\u001b[0m\u001b[1;33m\u001b[0m\u001b[1;33m\u001b[0m\u001b[0m\n\u001b[0;32m     48\u001b[0m \u001b[1;33m\u001b[0m\u001b[0m\n",
      "\u001b[1;32m~\\anaconda\\lib\\site-packages\\seaborn\\categorical.py\u001b[0m in \u001b[0;36mbarplot\u001b[1;34m(x, y, hue, data, order, hue_order, estimator, ci, n_boot, units, seed, orient, color, palette, saturation, errcolor, errwidth, capsize, dodge, ax, **kwargs)\u001b[0m\n\u001b[0;32m   3185\u001b[0m         \u001b[0max\u001b[0m \u001b[1;33m=\u001b[0m \u001b[0mplt\u001b[0m\u001b[1;33m.\u001b[0m\u001b[0mgca\u001b[0m\u001b[1;33m(\u001b[0m\u001b[1;33m)\u001b[0m\u001b[1;33m\u001b[0m\u001b[1;33m\u001b[0m\u001b[0m\n\u001b[0;32m   3186\u001b[0m \u001b[1;33m\u001b[0m\u001b[0m\n\u001b[1;32m-> 3187\u001b[1;33m     \u001b[0mplotter\u001b[0m\u001b[1;33m.\u001b[0m\u001b[0mplot\u001b[0m\u001b[1;33m(\u001b[0m\u001b[0max\u001b[0m\u001b[1;33m,\u001b[0m \u001b[0mkwargs\u001b[0m\u001b[1;33m)\u001b[0m\u001b[1;33m\u001b[0m\u001b[1;33m\u001b[0m\u001b[0m\n\u001b[0m\u001b[0;32m   3188\u001b[0m     \u001b[1;32mreturn\u001b[0m \u001b[0max\u001b[0m\u001b[1;33m\u001b[0m\u001b[1;33m\u001b[0m\u001b[0m\n\u001b[0;32m   3189\u001b[0m \u001b[1;33m\u001b[0m\u001b[0m\n",
      "\u001b[1;32m~\\anaconda\\lib\\site-packages\\seaborn\\categorical.py\u001b[0m in \u001b[0;36mplot\u001b[1;34m(self, ax, bar_kws)\u001b[0m\n\u001b[0;32m   1637\u001b[0m     \u001b[1;32mdef\u001b[0m \u001b[0mplot\u001b[0m\u001b[1;33m(\u001b[0m\u001b[0mself\u001b[0m\u001b[1;33m,\u001b[0m \u001b[0max\u001b[0m\u001b[1;33m,\u001b[0m \u001b[0mbar_kws\u001b[0m\u001b[1;33m)\u001b[0m\u001b[1;33m:\u001b[0m\u001b[1;33m\u001b[0m\u001b[1;33m\u001b[0m\u001b[0m\n\u001b[0;32m   1638\u001b[0m         \u001b[1;34m\"\"\"Make the plot.\"\"\"\u001b[0m\u001b[1;33m\u001b[0m\u001b[1;33m\u001b[0m\u001b[0m\n\u001b[1;32m-> 1639\u001b[1;33m         \u001b[0mself\u001b[0m\u001b[1;33m.\u001b[0m\u001b[0mdraw_bars\u001b[0m\u001b[1;33m(\u001b[0m\u001b[0max\u001b[0m\u001b[1;33m,\u001b[0m \u001b[0mbar_kws\u001b[0m\u001b[1;33m)\u001b[0m\u001b[1;33m\u001b[0m\u001b[1;33m\u001b[0m\u001b[0m\n\u001b[0m\u001b[0;32m   1640\u001b[0m         \u001b[0mself\u001b[0m\u001b[1;33m.\u001b[0m\u001b[0mannotate_axes\u001b[0m\u001b[1;33m(\u001b[0m\u001b[0max\u001b[0m\u001b[1;33m)\u001b[0m\u001b[1;33m\u001b[0m\u001b[1;33m\u001b[0m\u001b[0m\n\u001b[0;32m   1641\u001b[0m         \u001b[1;32mif\u001b[0m \u001b[0mself\u001b[0m\u001b[1;33m.\u001b[0m\u001b[0morient\u001b[0m \u001b[1;33m==\u001b[0m \u001b[1;34m\"h\"\u001b[0m\u001b[1;33m:\u001b[0m\u001b[1;33m\u001b[0m\u001b[1;33m\u001b[0m\u001b[0m\n",
      "\u001b[1;32m~\\anaconda\\lib\\site-packages\\seaborn\\categorical.py\u001b[0m in \u001b[0;36mdraw_bars\u001b[1;34m(self, ax, kws)\u001b[0m\n\u001b[0;32m   1602\u001b[0m \u001b[1;33m\u001b[0m\u001b[0m\n\u001b[0;32m   1603\u001b[0m             \u001b[1;31m# Draw the bars\u001b[0m\u001b[1;33m\u001b[0m\u001b[1;33m\u001b[0m\u001b[1;33m\u001b[0m\u001b[0m\n\u001b[1;32m-> 1604\u001b[1;33m             barfunc(barpos, self.statistic, self.width,\n\u001b[0m\u001b[0;32m   1605\u001b[0m                     color=self.colors, align=\"center\", **kws)\n\u001b[0;32m   1606\u001b[0m \u001b[1;33m\u001b[0m\u001b[0m\n",
      "\u001b[1;32m~\\anaconda\\lib\\site-packages\\matplotlib\\__init__.py\u001b[0m in \u001b[0;36minner\u001b[1;34m(ax, data, *args, **kwargs)\u001b[0m\n\u001b[0;32m   1445\u001b[0m     \u001b[1;32mdef\u001b[0m \u001b[0minner\u001b[0m\u001b[1;33m(\u001b[0m\u001b[0max\u001b[0m\u001b[1;33m,\u001b[0m \u001b[1;33m*\u001b[0m\u001b[0margs\u001b[0m\u001b[1;33m,\u001b[0m \u001b[0mdata\u001b[0m\u001b[1;33m=\u001b[0m\u001b[1;32mNone\u001b[0m\u001b[1;33m,\u001b[0m \u001b[1;33m**\u001b[0m\u001b[0mkwargs\u001b[0m\u001b[1;33m)\u001b[0m\u001b[1;33m:\u001b[0m\u001b[1;33m\u001b[0m\u001b[1;33m\u001b[0m\u001b[0m\n\u001b[0;32m   1446\u001b[0m         \u001b[1;32mif\u001b[0m \u001b[0mdata\u001b[0m \u001b[1;32mis\u001b[0m \u001b[1;32mNone\u001b[0m\u001b[1;33m:\u001b[0m\u001b[1;33m\u001b[0m\u001b[1;33m\u001b[0m\u001b[0m\n\u001b[1;32m-> 1447\u001b[1;33m             \u001b[1;32mreturn\u001b[0m \u001b[0mfunc\u001b[0m\u001b[1;33m(\u001b[0m\u001b[0max\u001b[0m\u001b[1;33m,\u001b[0m \u001b[1;33m*\u001b[0m\u001b[0mmap\u001b[0m\u001b[1;33m(\u001b[0m\u001b[0msanitize_sequence\u001b[0m\u001b[1;33m,\u001b[0m \u001b[0margs\u001b[0m\u001b[1;33m)\u001b[0m\u001b[1;33m,\u001b[0m \u001b[1;33m**\u001b[0m\u001b[0mkwargs\u001b[0m\u001b[1;33m)\u001b[0m\u001b[1;33m\u001b[0m\u001b[1;33m\u001b[0m\u001b[0m\n\u001b[0m\u001b[0;32m   1448\u001b[0m \u001b[1;33m\u001b[0m\u001b[0m\n\u001b[0;32m   1449\u001b[0m         \u001b[0mbound\u001b[0m \u001b[1;33m=\u001b[0m \u001b[0mnew_sig\u001b[0m\u001b[1;33m.\u001b[0m\u001b[0mbind\u001b[0m\u001b[1;33m(\u001b[0m\u001b[0max\u001b[0m\u001b[1;33m,\u001b[0m \u001b[1;33m*\u001b[0m\u001b[0margs\u001b[0m\u001b[1;33m,\u001b[0m \u001b[1;33m**\u001b[0m\u001b[0mkwargs\u001b[0m\u001b[1;33m)\u001b[0m\u001b[1;33m\u001b[0m\u001b[1;33m\u001b[0m\u001b[0m\n",
      "\u001b[1;32m~\\anaconda\\lib\\site-packages\\matplotlib\\axes\\_axes.py\u001b[0m in \u001b[0;36mbar\u001b[1;34m(self, x, height, width, bottom, align, **kwargs)\u001b[0m\n\u001b[0;32m   2486\u001b[0m                 \u001b[0mlabel\u001b[0m\u001b[1;33m=\u001b[0m\u001b[1;34m'_nolegend_'\u001b[0m\u001b[1;33m,\u001b[0m\u001b[1;33m\u001b[0m\u001b[1;33m\u001b[0m\u001b[0m\n\u001b[0;32m   2487\u001b[0m                 )\n\u001b[1;32m-> 2488\u001b[1;33m             \u001b[0mr\u001b[0m\u001b[1;33m.\u001b[0m\u001b[0mupdate\u001b[0m\u001b[1;33m(\u001b[0m\u001b[0mkwargs\u001b[0m\u001b[1;33m)\u001b[0m\u001b[1;33m\u001b[0m\u001b[1;33m\u001b[0m\u001b[0m\n\u001b[0m\u001b[0;32m   2489\u001b[0m             \u001b[0mr\u001b[0m\u001b[1;33m.\u001b[0m\u001b[0mget_path\u001b[0m\u001b[1;33m(\u001b[0m\u001b[1;33m)\u001b[0m\u001b[1;33m.\u001b[0m\u001b[0m_interpolation_steps\u001b[0m \u001b[1;33m=\u001b[0m \u001b[1;36m100\u001b[0m\u001b[1;33m\u001b[0m\u001b[1;33m\u001b[0m\u001b[0m\n\u001b[0;32m   2490\u001b[0m             \u001b[1;32mif\u001b[0m \u001b[0morientation\u001b[0m \u001b[1;33m==\u001b[0m \u001b[1;34m'vertical'\u001b[0m\u001b[1;33m:\u001b[0m\u001b[1;33m\u001b[0m\u001b[1;33m\u001b[0m\u001b[0m\n",
      "\u001b[1;32m~\\anaconda\\lib\\site-packages\\matplotlib\\artist.py\u001b[0m in \u001b[0;36mupdate\u001b[1;34m(self, props)\u001b[0m\n\u001b[0;32m    994\u001b[0m                     \u001b[0mfunc\u001b[0m \u001b[1;33m=\u001b[0m \u001b[0mgetattr\u001b[0m\u001b[1;33m(\u001b[0m\u001b[0mself\u001b[0m\u001b[1;33m,\u001b[0m \u001b[1;34mf\"set_{k}\"\u001b[0m\u001b[1;33m,\u001b[0m \u001b[1;32mNone\u001b[0m\u001b[1;33m)\u001b[0m\u001b[1;33m\u001b[0m\u001b[1;33m\u001b[0m\u001b[0m\n\u001b[0;32m    995\u001b[0m                     \u001b[1;32mif\u001b[0m \u001b[1;32mnot\u001b[0m \u001b[0mcallable\u001b[0m\u001b[1;33m(\u001b[0m\u001b[0mfunc\u001b[0m\u001b[1;33m)\u001b[0m\u001b[1;33m:\u001b[0m\u001b[1;33m\u001b[0m\u001b[1;33m\u001b[0m\u001b[0m\n\u001b[1;32m--> 996\u001b[1;33m                         raise AttributeError(f\"{type(self).__name__!r} object \"\n\u001b[0m\u001b[0;32m    997\u001b[0m                                              f\"has no property {k!r}\")\n\u001b[0;32m    998\u001b[0m                     \u001b[0mret\u001b[0m\u001b[1;33m.\u001b[0m\u001b[0mappend\u001b[0m\u001b[1;33m(\u001b[0m\u001b[0mfunc\u001b[0m\u001b[1;33m(\u001b[0m\u001b[0mv\u001b[0m\u001b[1;33m)\u001b[0m\u001b[1;33m)\u001b[0m\u001b[1;33m\u001b[0m\u001b[1;33m\u001b[0m\u001b[0m\n",
      "\u001b[1;31mAttributeError\u001b[0m: 'Rectangle' object has no property 'kind'"
     ]
    },
    {
     "data": {
      "image/png": "[encoded data removed]",
      "text/plain": [
       "<Figure size 432x288 with 1 Axes>"
      ]
     },
     "metadata": {
      "needs_background": "light"
     },
     "output_type": "display_data"
    }
   ],
   "source": [
    "sns.barplot(x='incidents_85_99', y='incidents_00_14', kind='bar', data=air)"
   ]
  },
  {
   "cell_type": "code",
   "execution_count": null,
   "id": "04cdf855",
   "metadata": {},
   "outputs": [],
   "source": [
    "air.head()"
   ]
  },
  {
   "cell_type": "code",
   "execution_count": null,
   "id": "5b44abd7",
   "metadata": {},
   "outputs": [],
   "source": [
    "#Cleaning for clarity.\n",
    "del air['fatalities_85_99']\n",
    "del air['incidents_85_99']\n",
    "del air['fatal_accidents_85_99']"
   ]
  },
  {
   "cell_type": "code",
   "execution_count": null,
   "id": "0f13dbc2",
   "metadata": {
    "scrolled": true
   },
   "outputs": [],
   "source": [
    "#Finding out how many incidents were in those years.\n",
    "air.incidents_00_14.max()"
   ]
  },
  {
   "cell_type": "code",
   "execution_count": null,
   "id": "13916272",
   "metadata": {
    "scrolled": false
   },
   "outputs": [],
   "source": [
    "#Copying the df to preserve the original.\n",
    "aircar = air\n",
    "aircar.head()"
   ]
  },
  {
   "cell_type": "code",
   "execution_count": null,
   "id": "8ae266fb",
   "metadata": {
    "scrolled": true
   },
   "outputs": [],
   "source": [
    "#Showing how many flight incidents per flight.\n",
    "plt.figure(figsize=(20, 7))\n",
    "plt.xticks(rotation=45)\n",
    "sns.barplot(data=air,x='airline',y='incidents_00_14')"
   ]
  },
  {
   "cell_type": "code",
   "execution_count": null,
   "id": "e604fec2",
   "metadata": {},
   "outputs": [],
   "source": [
    "aircarlen = pd.DataFrame({'Mode': ['Car', 'Air'], 'Years': [4,14]})"
   ]
  },
  {
   "cell_type": "code",
   "execution_count": null,
   "id": "558b51b7",
   "metadata": {},
   "outputs": [],
   "source": [
    "aircarlen "
   ]
  },
  {
   "cell_type": "code",
   "execution_count": null,
   "id": "c34cd30b",
   "metadata": {},
   "outputs": [],
   "source": [
    "sns.barplot(data=aircarlen, x='Mode', y='Years')"
   ]
  },
  {
   "cell_type": "code",
   "execution_count": null,
   "id": "168651bd",
   "metadata": {},
   "outputs": [],
   "source": [
    "#Adding the new line to the air df with the info from car.\n",
    "aircar = aircar.append({'airline': 'Air',\n",
    "                 'incidents_00_14': air.incidents_00_14.max()}, ignore_index=True)"
   ]
  },
  {
   "cell_type": "code",
   "execution_count": null,
   "id": "68cfafed",
   "metadata": {},
   "outputs": [],
   "source": [
    "#Adding the new line to the air df with the info from car.\n",
    "aircar = aircar.append({'airline': 'Car',\n",
    "                 'incidents_00_14': car['Date Occurred'].shape[0]},ignore_index=True)"
   ]
  },
  {
   "cell_type": "code",
   "execution_count": null,
   "id": "deaf9f3b",
   "metadata": {},
   "outputs": [],
   "source": [
    "#Adjusting the only date from car we veed.\n",
    "car = car[['Date Occurred']]"
   ]
  },
  {
   "cell_type": "code",
   "execution_count": null,
   "id": "aaa5db33",
   "metadata": {
    "scrolled": true
   },
   "outputs": [],
   "source": [
    "#Reviewing car head.\n",
    "car.head()"
   ]
  },
  {
   "cell_type": "code",
   "execution_count": null,
   "id": "cb51c5f7",
   "metadata": {},
   "outputs": [],
   "source": [
    "#Filtering the only dates we need so it matches with the airline dates.\n",
    "car = car[(car['Date Occurred'] < '2014-12-31')]"
   ]
  },
  {
   "cell_type": "code",
   "execution_count": null,
   "id": "79f3f832",
   "metadata": {
    "scrolled": false
   },
   "outputs": [],
   "source": [
    "#Reviewing article head.\n",
    "article.head()"
   ]
  },
  {
   "cell_type": "code",
   "execution_count": null,
   "id": "51cc9f50",
   "metadata": {
    "scrolled": true
   },
   "outputs": [],
   "source": [
    "### Sentiment Analysis:\n",
    "#Lowering the casing.\n",
    "article['headline_text'] = article['headline_text'].apply(lambda x: \" \".join(x.lower() for x in x.split()))\n",
    "article.sample(n=2)"
   ]
  },
  {
   "cell_type": "code",
   "execution_count": null,
   "id": "bf070159",
   "metadata": {},
   "outputs": [],
   "source": [
    "#Removing punctuation.\n",
    "article['headline_text'] = article['headline_text'].map(lambda x: re.sub(r'\\W+', ' ', x))\n",
    "article.sample(n=2)"
   ]
  },
  {
   "cell_type": "code",
   "execution_count": null,
   "id": "01f1901e",
   "metadata": {},
   "outputs": [],
   "source": [
    "#Removing stop words.\n",
    "stop = stopwords.words('english') #stop words = English.\n",
    "article['headline_text'] = article['headline_text'].apply(lambda x: \" \".join(x for x in x.split() if x not in stop)) \n",
    "article.sample(n=2)"
   ]
  },
  {
   "cell_type": "code",
   "execution_count": null,
   "id": "288710a8",
   "metadata": {},
   "outputs": [],
   "source": [
    "#Creating a list of keywords and articles to target planes or flights.\n",
    "tags = ['plane', 'flight', 'flights', 'airline', 'airplane', 'airlines']\n",
    "article = article[article['headline_text'].str.lower().str.contains('|'.join(tags))]"
   ]
  },
  {
   "cell_type": "code",
   "execution_count": null,
   "id": "56d7d564",
   "metadata": {},
   "outputs": [],
   "source": [
    "#Defining the sentiment analysis function\n",
    "def ss(x):\n",
    "    return TextBlob(x).sentiment "
   ]
  },
  {
   "cell_type": "code",
   "execution_count": null,
   "id": "abc73619",
   "metadata": {
    "scrolled": true
   },
   "outputs": [],
   "source": [
    "#Applying sentiment analysis\n",
    "article['Score'] = article['headline_text'].apply(ss)\n",
    "article['Positivity'] = article['Score'].apply(lambda x:x[0])\n",
    "article['Subjectivity'] = article['Score'].apply(lambda x:x[1])\n",
    "article.sample(n=2)"
   ]
  },
  {
   "cell_type": "code",
   "execution_count": null,
   "id": "6da3dd8e",
   "metadata": {},
   "outputs": [],
   "source": [
    "article['publish_date'] = pd.to_datetime(article['publish_date'], format='%Y%m%d') #Reformatting date/time format.\n",
    "article.sample(n=2)"
   ]
  },
  {
   "cell_type": "code",
   "execution_count": null,
   "id": "f2e2917b",
   "metadata": {
    "scrolled": true
   },
   "outputs": [],
   "source": [
    "#Graphing sentiment analysis\n",
    "sns.lineplot(x='publish_date',y=\"Positivity\",data=article, lw=1) "
   ]
  },
  {
   "cell_type": "code",
   "execution_count": null,
   "id": "59e08323",
   "metadata": {
    "scrolled": true
   },
   "outputs": [],
   "source": [
    "#Reviewing the new air variable.\n",
    "air"
   ]
  },
  {
   "cell_type": "code",
   "execution_count": null,
   "id": "62658134",
   "metadata": {},
   "outputs": [],
   "source": [
    "aircar"
   ]
  },
  {
   "cell_type": "code",
   "execution_count": null,
   "id": "595094ff",
   "metadata": {},
   "outputs": [],
   "source": [
    "#Creating a list of numbers from 1-55.\n",
    "fiftyfive = list(range(56))"
   ]
  },
  {
   "cell_type": "code",
   "execution_count": null,
   "id": "b4dbe5b7",
   "metadata": {},
   "outputs": [],
   "source": [
    "#Dropping the rows by index.\n",
    "aircar=aircar.drop(fiftyfive)"
   ]
  },
  {
   "cell_type": "code",
   "execution_count": null,
   "id": "5e91ba94",
   "metadata": {},
   "outputs": [],
   "source": [
    "aircar"
   ]
  },
  {
   "cell_type": "code",
   "execution_count": null,
   "id": "83c9dc50",
   "metadata": {},
   "outputs": [],
   "source": [
    "#Saving this to a csv so it can be used with R.\n",
    "air.to_csv('airforR.csv')\n",
    "aircar.to_csv('aircar.csv')"
   ]
  },
  {
   "cell_type": "code",
   "execution_count": null,
   "id": "6ccee640",
   "metadata": {},
   "outputs": [],
   "source": [
    "aircar['incidents_00_14'].max()"
   ]
  },
  {
   "cell_type": "code",
   "execution_count": null,
   "id": "954e5e78",
   "metadata": {
    "scrolled": true
   },
   "outputs": [],
   "source": []
  }
 ],
 "metadata": {
  "kernelspec": {
   "display_name": "Python 3",
   "language": "python",
   "name": "python3"
  },
  "language_info": {
   "codemirror_mode": {
    "name": "ipython",
    "version": 3
   },
   "file_extension": ".py",
   "mimetype": "text/x-python",
   "name": "python",
   "nbconvert_exporter": "python",
   "pygments_lexer": "ipython3",
   "version": "3.8.8"
  }
 },
 "nbformat": 4,
 "nbformat_minor": 5
}
